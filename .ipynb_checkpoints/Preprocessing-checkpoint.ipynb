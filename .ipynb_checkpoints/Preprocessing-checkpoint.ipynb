{
 "cells": [
  {
   "cell_type": "code",
   "execution_count": 182,
   "id": "969518a4",
   "metadata": {},
   "outputs": [
    {
     "name": "stdout",
     "output_type": "stream",
     "text": [
      "Collecting geopandas\n",
      "  Downloading geopandas-1.0.1-py3-none-any.whl.metadata (2.2 kB)\n",
      "Requirement already satisfied: numpy>=1.22 in c:\\users\\ilham\\appdata\\local\\programs\\python\\python311\\lib\\site-packages (from geopandas) (1.26.2)\n",
      "Collecting pyogrio>=0.7.2 (from geopandas)\n",
      "  Downloading pyogrio-0.10.0-cp311-cp311-win_amd64.whl.metadata (5.6 kB)\n",
      "Requirement already satisfied: packaging in c:\\users\\ilham\\appdata\\local\\programs\\python\\python311\\lib\\site-packages (from geopandas) (22.0)\n",
      "Requirement already satisfied: pandas>=1.4.0 in c:\\users\\ilham\\appdata\\local\\programs\\python\\python311\\lib\\site-packages (from geopandas) (2.2.3)\n",
      "Collecting pyproj>=3.3.0 (from geopandas)\n",
      "  Downloading pyproj-3.7.0-cp311-cp311-win_amd64.whl.metadata (31 kB)\n",
      "Collecting shapely>=2.0.0 (from geopandas)\n",
      "  Downloading shapely-2.0.6-cp311-cp311-win_amd64.whl.metadata (7.2 kB)\n",
      "Requirement already satisfied: python-dateutil>=2.8.2 in c:\\users\\ilham\\appdata\\local\\programs\\python\\python311\\lib\\site-packages (from pandas>=1.4.0->geopandas) (2.8.2)\n",
      "Requirement already satisfied: pytz>=2020.1 in c:\\users\\ilham\\appdata\\local\\programs\\python\\python311\\lib\\site-packages (from pandas>=1.4.0->geopandas) (2022.7.1)\n",
      "Requirement already satisfied: tzdata>=2022.7 in c:\\users\\ilham\\appdata\\local\\programs\\python\\python311\\lib\\site-packages (from pandas>=1.4.0->geopandas) (2022.7)\n",
      "Requirement already satisfied: certifi in c:\\users\\ilham\\appdata\\local\\programs\\python\\python311\\lib\\site-packages (from pyogrio>=0.7.2->geopandas) (2022.12.7)\n",
      "Requirement already satisfied: six>=1.5 in c:\\users\\ilham\\appdata\\local\\programs\\python\\python311\\lib\\site-packages (from python-dateutil>=2.8.2->pandas>=1.4.0->geopandas) (1.16.0)\n",
      "Downloading geopandas-1.0.1-py3-none-any.whl (323 kB)\n",
      "Downloading pyogrio-0.10.0-cp311-cp311-win_amd64.whl (16.2 MB)\n",
      "   ---------------------------------------- 0.0/16.2 MB ? eta -:--:--\n",
      "   ---------------------------------------- 0.0/16.2 MB ? eta -:--:--\n",
      "    --------------------------------------- 0.3/16.2 MB ? eta -:--:--\n",
      "    --------------------------------------- 0.3/16.2 MB ? eta -:--:--\n",
      "   - -------------------------------------- 0.5/16.2 MB 699.0 kB/s eta 0:00:23\n",
      "   - -------------------------------------- 0.8/16.2 MB 781.4 kB/s eta 0:00:20\n",
      "   - -------------------------------------- 0.8/16.2 MB 781.4 kB/s eta 0:00:20\n",
      "   -- ------------------------------------- 1.0/16.2 MB 799.2 kB/s eta 0:00:19\n",
      "   --- ------------------------------------ 1.3/16.2 MB 818.6 kB/s eta 0:00:19\n",
      "   --- ------------------------------------ 1.3/16.2 MB 818.6 kB/s eta 0:00:19\n",
      "   --- ------------------------------------ 1.6/16.2 MB 822.8 kB/s eta 0:00:18\n",
      "   ---- ----------------------------------- 1.8/16.2 MB 825.2 kB/s eta 0:00:18\n",
      "   ---- ----------------------------------- 1.8/16.2 MB 825.2 kB/s eta 0:00:18\n",
      "   ----- ---------------------------------- 2.1/16.2 MB 810.2 kB/s eta 0:00:18\n",
      "   ----- ---------------------------------- 2.1/16.2 MB 810.2 kB/s eta 0:00:18\n",
      "   ----- ---------------------------------- 2.4/16.2 MB 798.9 kB/s eta 0:00:18\n",
      "   ------ --------------------------------- 2.6/16.2 MB 798.9 kB/s eta 0:00:17\n",
      "   ------ --------------------------------- 2.6/16.2 MB 798.9 kB/s eta 0:00:17\n",
      "   ------- -------------------------------- 2.9/16.2 MB 799.0 kB/s eta 0:00:17\n",
      "   ------- -------------------------------- 3.1/16.2 MB 805.9 kB/s eta 0:00:17\n",
      "   ------- -------------------------------- 3.1/16.2 MB 805.9 kB/s eta 0:00:17\n",
      "   -------- ------------------------------- 3.4/16.2 MB 815.2 kB/s eta 0:00:16\n",
      "   --------- ------------------------------ 3.7/16.2 MB 820.0 kB/s eta 0:00:16\n",
      "   --------- ------------------------------ 3.7/16.2 MB 820.0 kB/s eta 0:00:16\n",
      "   --------- ------------------------------ 3.9/16.2 MB 812.8 kB/s eta 0:00:16\n",
      "   --------- ------------------------------ 3.9/16.2 MB 812.8 kB/s eta 0:00:16\n",
      "   ---------- ----------------------------- 4.2/16.2 MB 804.1 kB/s eta 0:00:15\n",
      "   ---------- ----------------------------- 4.2/16.2 MB 804.1 kB/s eta 0:00:15\n",
      "   ----------- ---------------------------- 4.5/16.2 MB 796.6 kB/s eta 0:00:15\n",
      "   ----------- ---------------------------- 4.7/16.2 MB 787.9 kB/s eta 0:00:15\n",
      "   ----------- ---------------------------- 4.7/16.2 MB 787.9 kB/s eta 0:00:15\n",
      "   ------------ --------------------------- 5.0/16.2 MB 782.4 kB/s eta 0:00:15\n",
      "   ------------ --------------------------- 5.0/16.2 MB 782.4 kB/s eta 0:00:15\n",
      "   ------------ --------------------------- 5.2/16.2 MB 777.5 kB/s eta 0:00:15\n",
      "   ------------ --------------------------- 5.2/16.2 MB 777.5 kB/s eta 0:00:15\n",
      "   ------------- -------------------------- 5.5/16.2 MB 771.5 kB/s eta 0:00:14\n",
      "   ------------- -------------------------- 5.5/16.2 MB 771.5 kB/s eta 0:00:14\n",
      "   -------------- ------------------------- 5.8/16.2 MB 767.7 kB/s eta 0:00:14\n",
      "   -------------- ------------------------- 5.8/16.2 MB 767.7 kB/s eta 0:00:14\n",
      "   -------------- ------------------------- 6.0/16.2 MB 765.8 kB/s eta 0:00:14\n",
      "   --------------- ------------------------ 6.3/16.2 MB 767.2 kB/s eta 0:00:13\n",
      "   --------------- ------------------------ 6.3/16.2 MB 767.2 kB/s eta 0:00:13\n",
      "   ---------------- ----------------------- 6.6/16.2 MB 770.0 kB/s eta 0:00:13\n",
      "   ---------------- ----------------------- 6.8/16.2 MB 773.9 kB/s eta 0:00:13\n",
      "   ---------------- ----------------------- 6.8/16.2 MB 773.9 kB/s eta 0:00:13\n",
      "   ----------------- ---------------------- 7.1/16.2 MB 777.6 kB/s eta 0:00:12\n",
      "   ------------------ --------------------- 7.3/16.2 MB 783.7 kB/s eta 0:00:12\n",
      "   ------------------ --------------------- 7.6/16.2 MB 789.6 kB/s eta 0:00:11\n",
      "   ------------------- -------------------- 7.9/16.2 MB 795.0 kB/s eta 0:00:11\n",
      "   ------------------- -------------------- 7.9/16.2 MB 795.0 kB/s eta 0:00:11\n",
      "   -------------------- ------------------- 8.1/16.2 MB 797.7 kB/s eta 0:00:11\n",
      "   -------------------- ------------------- 8.1/16.2 MB 797.7 kB/s eta 0:00:11\n",
      "   -------------------- ------------------- 8.4/16.2 MB 792.8 kB/s eta 0:00:10\n",
      "   -------------------- ------------------- 8.4/16.2 MB 792.8 kB/s eta 0:00:10\n",
      "   --------------------- ------------------ 8.7/16.2 MB 782.7 kB/s eta 0:00:10\n",
      "   --------------------- ------------------ 8.7/16.2 MB 782.7 kB/s eta 0:00:10\n",
      "   --------------------- ------------------ 8.7/16.2 MB 782.7 kB/s eta 0:00:10\n",
      "   ---------------------- ----------------- 8.9/16.2 MB 762.7 kB/s eta 0:00:10\n",
      "   ---------------------- ----------------- 8.9/16.2 MB 762.7 kB/s eta 0:00:10\n",
      "   ---------------------- ----------------- 8.9/16.2 MB 762.7 kB/s eta 0:00:10\n",
      "   ---------------------- ----------------- 9.2/16.2 MB 753.5 kB/s eta 0:00:10\n",
      "   ---------------------- ----------------- 9.2/16.2 MB 753.5 kB/s eta 0:00:10\n",
      "   ----------------------- ---------------- 9.4/16.2 MB 745.2 kB/s eta 0:00:10\n",
      "   ----------------------- ---------------- 9.4/16.2 MB 745.2 kB/s eta 0:00:10\n",
      "   ----------------------- ---------------- 9.7/16.2 MB 741.1 kB/s eta 0:00:09\n",
      "   ----------------------- ---------------- 9.7/16.2 MB 741.1 kB/s eta 0:00:09\n",
      "   ------------------------ --------------- 10.0/16.2 MB 739.9 kB/s eta 0:00:09\n",
      "   ------------------------ --------------- 10.0/16.2 MB 739.9 kB/s eta 0:00:09\n",
      "   ------------------------- -------------- 10.2/16.2 MB 738.8 kB/s eta 0:00:09\n",
      "   ------------------------- -------------- 10.5/16.2 MB 738.5 kB/s eta 0:00:08\n",
      "   ------------------------- -------------- 10.5/16.2 MB 738.5 kB/s eta 0:00:08\n",
      "   -------------------------- ------------- 10.7/16.2 MB 739.1 kB/s eta 0:00:08\n",
      "   -------------------------- ------------- 10.7/16.2 MB 739.1 kB/s eta 0:00:08\n",
      "   -------------------------- ------------- 10.7/16.2 MB 739.1 kB/s eta 0:00:08\n",
      "   --------------------------- ------------ 11.0/16.2 MB 723.3 kB/s eta 0:00:08\n",
      "   --------------------------- ------------ 11.0/16.2 MB 723.3 kB/s eta 0:00:08\n",
      "   --------------------------- ------------ 11.3/16.2 MB 725.0 kB/s eta 0:00:07\n",
      "   ---------------------------- ----------- 11.5/16.2 MB 728.7 kB/s eta 0:00:07\n",
      "   ---------------------------- ----------- 11.5/16.2 MB 728.7 kB/s eta 0:00:07\n",
      "   ----------------------------- ---------- 11.8/16.2 MB 730.2 kB/s eta 0:00:06\n",
      "   ----------------------------- ---------- 12.1/16.2 MB 736.6 kB/s eta 0:00:06\n",
      "   ------------------------------ --------- 12.3/16.2 MB 740.7 kB/s eta 0:00:06\n",
      "   ------------------------------- -------- 12.6/16.2 MB 745.3 kB/s eta 0:00:05\n",
      "   ------------------------------- -------- 12.8/16.2 MB 750.5 kB/s eta 0:00:05\n",
      "   ------------------------------- -------- 12.8/16.2 MB 750.5 kB/s eta 0:00:05\n",
      "   -------------------------------- ------- 13.1/16.2 MB 753.6 kB/s eta 0:00:05\n",
      "   --------------------------------- ------ 13.4/16.2 MB 759.8 kB/s eta 0:00:04\n",
      "   --------------------------------- ------ 13.6/16.2 MB 762.6 kB/s eta 0:00:04\n",
      "   ---------------------------------- ----- 13.9/16.2 MB 768.0 kB/s eta 0:00:03\n",
      "   ----------------------------------- ---- 14.2/16.2 MB 773.9 kB/s eta 0:00:03\n",
      "   ----------------------------------- ---- 14.4/16.2 MB 778.3 kB/s eta 0:00:03\n",
      "   ------------------------------------ --- 14.7/16.2 MB 784.0 kB/s eta 0:00:02\n",
      "   ------------------------------------ --- 14.9/16.2 MB 788.2 kB/s eta 0:00:02\n",
      "   ------------------------------------ --- 14.9/16.2 MB 788.2 kB/s eta 0:00:02\n",
      "   ------------------------------------- -- 15.2/16.2 MB 791.6 kB/s eta 0:00:02\n",
      "   -------------------------------------- - 15.5/16.2 MB 797.6 kB/s eta 0:00:01\n",
      "   -------------------------------------- - 15.7/16.2 MB 802.2 kB/s eta 0:00:01\n",
      "   ---------------------------------------  16.0/16.2 MB 806.0 kB/s eta 0:00:01\n",
      "   ---------------------------------------- 16.2/16.2 MB 808.8 kB/s eta 0:00:00\n",
      "Downloading pyproj-3.7.0-cp311-cp311-win_amd64.whl (6.2 MB)\n",
      "   ---------------------------------------- 0.0/6.2 MB ? eta -:--:--\n",
      "   - -------------------------------------- 0.3/6.2 MB ? eta -:--:--\n",
      "   --- ------------------------------------ 0.5/6.2 MB 1.3 MB/s eta 0:00:05\n",
      "   ----- ---------------------------------- 0.8/6.2 MB 1.4 MB/s eta 0:00:04\n",
      "   ------ --------------------------------- 1.0/6.2 MB 1.3 MB/s eta 0:00:04\n",
      "   -------- ------------------------------- 1.3/6.2 MB 1.4 MB/s eta 0:00:04\n",
      "   ---------- ----------------------------- 1.6/6.2 MB 1.4 MB/s eta 0:00:04\n",
      "   ----------- ---------------------------- 1.8/6.2 MB 1.4 MB/s eta 0:00:04\n",
      "   ------------- -------------------------- 2.1/6.2 MB 1.4 MB/s eta 0:00:03\n",
      "   --------------- ------------------------ 2.4/6.2 MB 1.4 MB/s eta 0:00:03\n",
      "   ------------------ --------------------- 2.9/6.2 MB 1.4 MB/s eta 0:00:03\n",
      "   -------------------- ------------------- 3.1/6.2 MB 1.4 MB/s eta 0:00:03\n",
      "   --------------------- ------------------ 3.4/6.2 MB 1.4 MB/s eta 0:00:02\n",
      "   ----------------------- ---------------- 3.7/6.2 MB 1.4 MB/s eta 0:00:02\n",
      "   ------------------------- -------------- 3.9/6.2 MB 1.4 MB/s eta 0:00:02\n",
      "   -------------------------- ------------- 4.2/6.2 MB 1.4 MB/s eta 0:00:02\n",
      "   ------------------------------ --------- 4.7/6.2 MB 1.4 MB/s eta 0:00:02\n",
      "   ------------------------------- -------- 5.0/6.2 MB 1.5 MB/s eta 0:00:01\n",
      "   --------------------------------- ------ 5.2/6.2 MB 1.4 MB/s eta 0:00:01\n",
      "   ----------------------------------- ---- 5.5/6.2 MB 1.4 MB/s eta 0:00:01\n",
      "   ------------------------------------- -- 5.8/6.2 MB 1.4 MB/s eta 0:00:01\n",
      "   -------------------------------------- - 6.0/6.2 MB 1.4 MB/s eta 0:00:01\n",
      "   ---------------------------------------- 6.2/6.2 MB 1.4 MB/s eta 0:00:00\n",
      "Downloading shapely-2.0.6-cp311-cp311-win_amd64.whl (1.4 MB)\n",
      "   ---------------------------------------- 0.0/1.4 MB ? eta -:--:--\n",
      "   ---------------------------------------- 0.0/1.4 MB ? eta -:--:--\n",
      "   ------- -------------------------------- 0.3/1.4 MB ? eta -:--:--\n",
      "   -------------- ------------------------- 0.5/1.4 MB 1.0 MB/s eta 0:00:01\n",
      "   --------------------- ------------------ 0.8/1.4 MB 1.3 MB/s eta 0:00:01\n",
      "   ----------------------------- ---------- 1.0/1.4 MB 1.2 MB/s eta 0:00:01\n",
      "   ------------------------------------ --- 1.3/1.4 MB 1.2 MB/s eta 0:00:01\n",
      "   ---------------------------------------- 1.4/1.4 MB 1.1 MB/s eta 0:00:00\n",
      "Installing collected packages: shapely, pyproj, pyogrio, geopandas\n",
      "Successfully installed geopandas-1.0.1 pyogrio-0.10.0 pyproj-3.7.0 shapely-2.0.6\n"
     ]
    }
   ],
   "source": [
    "!pip install geopandas"
   ]
  },
  {
   "cell_type": "markdown",
   "id": "4002e49c-33fe-4a76-9971-60a8b9e8c74c",
   "metadata": {},
   "source": [
    "# Load & Prepare Dataset"
   ]
  },
  {
   "cell_type": "code",
   "execution_count": null,
   "id": "5dbc3296",
   "metadata": {},
   "outputs": [],
   "source": [
    "import pandas as pd\n",
    "from sklearn.preprocessing import OneHotEncoder, StandardScaler\n",
    "import seaborn as sns\n",
    "import matplotlib.pyplot as plt\n",
    "import numpy as np\n",
    "from scipy import stats\n",
    "import warnings\n",
    "import geopandas as gpd"
   ]
  },
  {
   "cell_type": "code",
   "execution_count": null,
   "id": "4c622c13",
   "metadata": {},
   "outputs": [],
   "source": [
    "data = pd.read_csv('./data/Fraud_Data.csv')"
   ]
  },
  {
   "cell_type": "code",
   "execution_count": null,
   "id": "60f6723b",
   "metadata": {},
   "outputs": [],
   "source": [
    "data.shape"
   ]
  },
  {
   "cell_type": "code",
   "execution_count": null,
   "id": "b03e6c76",
   "metadata": {
    "scrolled": true
   },
   "outputs": [],
   "source": [
    "data.head()"
   ]
  },
  {
   "cell_type": "code",
   "execution_count": null,
   "id": "5d06be93",
   "metadata": {
    "scrolled": false
   },
   "outputs": [],
   "source": [
    "print(data.columns)"
   ]
  },
  {
   "cell_type": "code",
   "execution_count": null,
   "id": "f4222930",
   "metadata": {},
   "outputs": [],
   "source": [
    "data['signup_time'] = pd.to_datetime(data['signup_time'])\n",
    "data['purchase_time'] = pd.to_datetime(data['purchase_time'])"
   ]
  },
  {
   "cell_type": "code",
   "execution_count": null,
   "id": "cf591314",
   "metadata": {},
   "outputs": [],
   "source": [
    "data = data.drop(columns=['user_id', 'device_id'])"
   ]
  },
  {
   "cell_type": "code",
   "execution_count": null,
   "id": "f49b4b5e",
   "metadata": {},
   "outputs": [],
   "source": [
    "data.info()"
   ]
  },
  {
   "cell_type": "markdown",
   "id": "61aa2ad6",
   "metadata": {},
   "source": [
    "# Feature Engineering"
   ]
  },
  {
   "cell_type": "code",
   "execution_count": null,
   "id": "b1121443",
   "metadata": {},
   "outputs": [],
   "source": [
    "# Extract meaningful features\n",
    "data['signup_month'] = data['signup_time'].dt.month\n",
    "data['signup_day'] = data['signup_time'].dt.day\n",
    "data['signup_hour'] = data['signup_time'].dt.hour\n",
    "data['signup_weekday'] = data['signup_time'].dt.weekday  # 0 = Monday, 6 = Sunday"
   ]
  },
  {
   "cell_type": "code",
   "execution_count": null,
   "id": "c985cdfe",
   "metadata": {},
   "outputs": [],
   "source": [
    "# Sine and Cosine Transformations for cyclical 'signup_hour'\n",
    "data['signup_hour_sin'] = np.sin(2 * np.pi * data['signup_hour'] / 24)\n",
    "data['signup_hour_cos'] = np.cos(2 * np.pi * data['signup_hour'] / 24)"
   ]
  },
  {
   "cell_type": "code",
   "execution_count": null,
   "id": "e50bcabf",
   "metadata": {},
   "outputs": [],
   "source": [
    "# Do the same for purchase_time\n",
    "data['purchase_month'] = data['purchase_time'].dt.month\n",
    "data['purchase_day'] = data['purchase_time'].dt.day\n",
    "data['purchase_hour'] = data['purchase_time'].dt.hour\n",
    "data['purchase_weekday'] = data['purchase_time'].dt.weekday  # 0 = Monday, 6 = Sunday"
   ]
  },
  {
   "cell_type": "code",
   "execution_count": null,
   "id": "830bd969",
   "metadata": {},
   "outputs": [],
   "source": [
    "# Sine and Cosine Transformations for cyclical 'purchase_hour'\n",
    "data['purchase_hour_sin'] = np.sin(2 * np.pi * data['purchase_hour'] / 24)\n",
    "data['purchase_hour_cos'] = np.cos(2 * np.pi * data['purchase_hour'] / 24)"
   ]
  },
  {
   "cell_type": "code",
   "execution_count": null,
   "id": "6d1016c6",
   "metadata": {},
   "outputs": [],
   "source": [
    "# Calculate time difference in seconds\n",
    "data['time_diff'] = (data['purchase_time'] - data['signup_time']).dt.total_seconds()"
   ]
  },
  {
   "cell_type": "code",
   "execution_count": null,
   "id": "fce99ef5",
   "metadata": {},
   "outputs": [],
   "source": [
    "data = data.drop(columns=['signup_time', 'purchase_time'])"
   ]
  },
  {
   "cell_type": "markdown",
   "id": "ecea72d5",
   "metadata": {},
   "source": [
    "# IP Addresses"
   ]
  },
  {
   "cell_type": "code",
   "execution_count": null,
   "id": "19417658",
   "metadata": {},
   "outputs": [],
   "source": [
    "ip_map = pd.read_csv('./data/IpAddress_to_Country.csv')  "
   ]
  },
  {
   "cell_type": "code",
   "execution_count": null,
   "id": "c4285080",
   "metadata": {
    "scrolled": true
   },
   "outputs": [],
   "source": [
    "ip_map.head()"
   ]
  },
  {
   "cell_type": "code",
   "execution_count": null,
   "id": "db4d0b25",
   "metadata": {},
   "outputs": [],
   "source": [
    "ip_map.info()"
   ]
  },
  {
   "cell_type": "code",
   "execution_count": null,
   "id": "a27904e9",
   "metadata": {},
   "outputs": [],
   "source": [
    "def map_country(ip):\n",
    "    row = ip_map[(ip_map['lower_bound_ip_address'] <= ip) & (ip_map['upper_bound_ip_address'] >= ip)]\n",
    "    if not row.empty:\n",
    "        return row['country'].values[0]\n",
    "    return 'Unknown'"
   ]
  },
  {
   "cell_type": "code",
   "execution_count": null,
   "id": "995a51ba",
   "metadata": {},
   "outputs": [],
   "source": [
    "warnings.filterwarnings('ignore')"
   ]
  },
  {
   "cell_type": "code",
   "execution_count": null,
   "id": "90a86985",
   "metadata": {
    "scrolled": true
   },
   "outputs": [],
   "source": [
    "data['country'] = data['ip_address'].apply(map_country)"
   ]
  },
  {
   "cell_type": "code",
   "execution_count": null,
   "id": "9fdb0887",
   "metadata": {
    "scrolled": true
   },
   "outputs": [],
   "source": [
    "data['country'].value_counts()"
   ]
  },
  {
   "cell_type": "markdown",
   "id": "92ecc24c",
   "metadata": {},
   "source": [
    "# EDA (Part 1)"
   ]
  },
  {
   "cell_type": "code",
   "execution_count": null,
   "id": "a05cd402",
   "metadata": {
    "scrolled": true
   },
   "outputs": [],
   "source": [
    "# EDA: Summary statistics and missing values\n",
    "print(\"Missing values:\\n\", data.isnull().sum())"
   ]
  },
  {
   "cell_type": "code",
   "execution_count": null,
   "id": "4cb81b23",
   "metadata": {
    "scrolled": false
   },
   "outputs": [],
   "source": [
    "data.describe()"
   ]
  },
  {
   "cell_type": "code",
   "execution_count": null,
   "id": "6907518f",
   "metadata": {},
   "outputs": [],
   "source": [
    "numerical_cols = [\n",
    "    'purchase_value', 'age', 'time_diff', 'signup_month', 'signup_day', 'signup_weekday',\n",
    "    'purchase_month', 'purchase_day', 'purchase_weekday'\n",
    "]"
   ]
  },
  {
   "cell_type": "code",
   "execution_count": null,
   "id": "26729407",
   "metadata": {
    "scrolled": true
   },
   "outputs": [],
   "source": [
    "for col in numerical_cols:\n",
    "    plt.figure(figsize=(8, 5))\n",
    "    sns.histplot(data[col], kde=True, bins=30)\n",
    "    plt.title(f'Distribution of {col}')\n",
    "    plt.show()"
   ]
  },
  {
   "cell_type": "code",
   "execution_count": null,
   "id": "1165cef4",
   "metadata": {
    "scrolled": false
   },
   "outputs": [],
   "source": [
    "# Visualization 2: Histogram of 'purchase_value'\n",
    "plt.figure(figsize=(8, 6))\n",
    "sns.histplot(data['purchase_value'], bins=30, kde=True)\n",
    "plt.title(\"Purchase Value Distribution\")\n",
    "plt.xlabel(\"Purchase Value\")\n",
    "plt.ylabel(\"Frequency\")\n",
    "plt.show()"
   ]
  },
  {
   "cell_type": "code",
   "execution_count": null,
   "id": "cc1f303b",
   "metadata": {
    "scrolled": true
   },
   "outputs": [],
   "source": [
    "categorical_cols = ['source', 'browser', 'sex']\n",
    "for col in categorical_cols:\n",
    "    plt.figure(figsize=(8, 5))\n",
    "    sns.countplot(x=data[col])\n",
    "    plt.title(f'Count of {col}')\n",
    "    plt.show()"
   ]
  },
  {
   "cell_type": "code",
   "execution_count": null,
   "id": "c0f18046",
   "metadata": {},
   "outputs": [],
   "source": [
    "# Boxplots to detect outliers\n",
    "for col in numerical_cols:\n",
    "    plt.figure(figsize=(8, 5))\n",
    "    sns.boxplot(x=data[col])\n",
    "    plt.title(f'Boxplot of {col}')\n",
    "    plt.show()"
   ]
  },
  {
   "cell_type": "code",
   "execution_count": null,
   "id": "e0b4da9e",
   "metadata": {
    "scrolled": true
   },
   "outputs": [],
   "source": [
    "# Bar plots for categorical features\n",
    "categorical_cols = ['source', 'browser', 'sex']\n",
    "for col in categorical_cols:\n",
    "    plt.figure(figsize=(8, 5))\n",
    "    sns.countplot(x=data[col])\n",
    "    plt.title(f'Count of {col}')\n",
    "    plt.show()"
   ]
  },
  {
   "cell_type": "code",
   "execution_count": null,
   "id": "6b4d78f6",
   "metadata": {},
   "outputs": [],
   "source": [
    "# Correlation heatmap for numeric columns\n",
    "numeric_df = data.select_dtypes(include=['float64', 'int64'])\n",
    "correlation_matrix = numeric_df.corr()"
   ]
  },
  {
   "cell_type": "code",
   "execution_count": null,
   "id": "806cc873",
   "metadata": {},
   "outputs": [],
   "source": [
    "plt.figure(figsize=(12, 8))\n",
    "sns.heatmap(correlation_matrix, annot=True, cmap='coolwarm', fmt=\".2f\")\n",
    "plt.title('Correlation Heatmap')\n",
    "plt.show()"
   ]
  },
  {
   "cell_type": "code",
   "execution_count": null,
   "id": "3b47ca32",
   "metadata": {},
   "outputs": [],
   "source": [
    "# Scatter plot for relationships between numerical features\n",
    "plt.figure(figsize=(8, 5))\n",
    "sns.scatterplot(x='age', y='purchase_value', hue='class', data=data)\n",
    "plt.title('Age vs Purchase Value by Class')\n",
    "plt.show()"
   ]
  },
  {
   "cell_type": "code",
   "execution_count": null,
   "id": "411d6615",
   "metadata": {
    "scrolled": true
   },
   "outputs": [],
   "source": [
    "# Visualization 4: Bar plot of fraud cases by 'signup_month'\n",
    "if 'signup_month' in data.columns:\n",
    "    plt.figure(figsize=(8, 6))\n",
    "    sns.countplot(data=data, x='signup_month', hue='class')\n",
    "    plt.title(\"Fraud Cases by Signup Month\")\n",
    "    plt.xlabel(\"Signup Month\")\n",
    "    plt.ylabel(\"Count\")\n",
    "    plt.show()"
   ]
  },
  {
   "cell_type": "code",
   "execution_count": null,
   "id": "a335ed7b",
   "metadata": {},
   "outputs": [],
   "source": [
    "# Frequency distribution of countries (before encoding)\n",
    "country_frequency = data['country'].value_counts()"
   ]
  },
  {
   "cell_type": "code",
   "execution_count": null,
   "id": "65f915c5",
   "metadata": {
    "scrolled": true
   },
   "outputs": [],
   "source": [
    "# Define a frequency threshold\n",
    "threshold = 100\n",
    "\n",
    "# Filter countries with frequency above the threshold\n",
    "frequent_countries = country_frequency[country_frequency > threshold]\n",
    "\n",
    "# Bar plot for country frequencies above the threshold\n",
    "plt.figure(figsize=(12, 6))\n",
    "frequent_countries.plot(kind='bar')\n",
    "plt.title(f'Country Distribution (Countries with > {threshold} Transactions)')\n",
    "plt.xlabel('Country')\n",
    "plt.ylabel('Frequency')\n",
    "plt.xticks(rotation=90)\n",
    "plt.show()"
   ]
  },
  {
   "cell_type": "code",
   "execution_count": null,
   "id": "dd8b3971",
   "metadata": {},
   "outputs": [],
   "source": [
    "fraud_by_country = data[data['class'] == 1]['country'].value_counts()"
   ]
  },
  {
   "cell_type": "code",
   "execution_count": null,
   "id": "38280438",
   "metadata": {
    "scrolled": false
   },
   "outputs": [],
   "source": [
    "# Fraud frequency by country above the threshold\n",
    "fraud_by_country_filtered = fraud_by_country[fraud_by_country > threshold]\n",
    "\n",
    "plt.figure(figsize=(12, 6))\n",
    "fraud_by_country_filtered.plot(kind='bar', color='red')\n",
    "plt.title(f'Fraud Frequency by Country (Countries with > {threshold} Fraudulent Transactions)')\n",
    "plt.xlabel('Country')\n",
    "plt.ylabel('Frequency')\n",
    "plt.xticks(rotation=90)\n",
    "plt.show()"
   ]
  },
  {
   "cell_type": "code",
   "execution_count": null,
   "id": "3da47a59",
   "metadata": {},
   "outputs": [],
   "source": [
    "# Load the world shapefile from the downloaded Natural Earth data\n",
    "world = gpd.read_file(\"./data/ne_110m_admin_0_countries.shp\")"
   ]
  },
  {
   "cell_type": "code",
   "execution_count": null,
   "id": "da269c37",
   "metadata": {},
   "outputs": [],
   "source": [
    "# Merge country data for fraud visualization\n",
    "fraud_map_data = fraud_by_country.reset_index()\n",
    "fraud_map_data.columns = ['country', 'fraud_count']\n",
    "world = world.merge(fraud_map_data, how='left', left_on='NAME', right_on='country')\n",
    "world['fraud_count'] = world['fraud_count'].fillna(0)"
   ]
  },
  {
   "cell_type": "code",
   "execution_count": null,
   "id": "8cb3313e",
   "metadata": {},
   "outputs": [],
   "source": [
    "# Normalize fraud count for color scaling\n",
    "world['fraud_count_normalized'] = np.log1p(world['fraud_count'])  # Log transformation for large ranges"
   ]
  },
  {
   "cell_type": "code",
   "execution_count": null,
   "id": "36acac9a",
   "metadata": {},
   "outputs": [],
   "source": [
    "# Plot fraud map\n",
    "plt.figure(figsize=(15, 10))\n",
    "world.plot(column='fraud_count_normalized', cmap='Reds', legend=True, \n",
    "           legend_kwds={'label': \"Normalized Fraud Count by Country\", 'orientation': \"horizontal\"})\n",
    "plt.title('Geographic Distribution of Fraud (Log-Scaled)')\n",
    "plt.show()"
   ]
  },
  {
   "cell_type": "markdown",
   "id": "2c7a9079",
   "metadata": {},
   "source": [
    "# Outlier Handling"
   ]
  },
  {
   "cell_type": "code",
   "execution_count": null,
   "id": "9c4acd3f",
   "metadata": {},
   "outputs": [],
   "source": [
    "pre_df = data.copy()"
   ]
  },
  {
   "cell_type": "code",
   "execution_count": null,
   "id": "e007ca5b",
   "metadata": {},
   "outputs": [],
   "source": [
    "# Handle outliers using Z-score\n",
    "z_scores = np.abs(stats.zscore(pre_df[numerical_cols]))\n",
    "pre_df = pre_df[(z_scores < 3).all(axis=1)]  # Retain rows with z-score < 3"
   ]
  },
  {
   "cell_type": "markdown",
   "id": "bca01df9",
   "metadata": {},
   "source": [
    "# Encoding"
   ]
  },
  {
   "cell_type": "code",
   "execution_count": null,
   "id": "34e79bcb",
   "metadata": {},
   "outputs": [],
   "source": [
    "pre_df = pd.get_dummies(pre_df, columns=categorical_cols, drop_first=True)"
   ]
  },
  {
   "cell_type": "code",
   "execution_count": null,
   "id": "2112c795",
   "metadata": {},
   "outputs": [],
   "source": [
    "# Convert True/False to 1/0 for all boolean columns\n",
    "for col in pre_df.columns:\n",
    "    if pre_df[col].dtype == bool:\n",
    "        pre_df[col] = pre_df[col].astype(int)"
   ]
  },
  {
   "cell_type": "code",
   "execution_count": null,
   "id": "cec215f1",
   "metadata": {},
   "outputs": [],
   "source": [
    "# Frequency encoding for 'country'\n",
    "country_frequency = pre_df['country'].value_counts()\n",
    "pre_df['country_encoded'] = pre_df['country'].map(country_frequency)\n",
    "\n",
    "# Drop the original 'country' column after encoding\n",
    "pre_df = pre_df.drop(columns=['country'])"
   ]
  },
  {
   "cell_type": "markdown",
   "id": "98e863c5",
   "metadata": {},
   "source": [
    "To avoid data leakage:"
   ]
  },
  {
   "cell_type": "code",
   "execution_count": null,
   "id": "a647dba0",
   "metadata": {},
   "outputs": [],
   "source": [
    "# Train/Test Split (Before Scaling)\n",
    "X = pre_df.drop(columns=['class'])\n",
    "y = pre_df['class']"
   ]
  },
  {
   "cell_type": "code",
   "execution_count": null,
   "id": "6dd6802b",
   "metadata": {},
   "outputs": [],
   "source": [
    "X_train, X_test, y_train, y_test = train_test_split(X, y, test_size=0.20, random_state=42, stratify=y)"
   ]
  },
  {
   "cell_type": "code",
   "execution_count": null,
   "id": "931be550",
   "metadata": {},
   "outputs": [],
   "source": [
    "scaler = StandardScaler()\n",
    "X_train[['country_encoded']] = scaler.fit_transform(X_train[['country_encoded']])\n",
    "X_test[['country_encoded']] = scaler.transform(X_test[['country_encoded']])"
   ]
  },
  {
   "cell_type": "code",
   "execution_count": null,
   "id": "d66fd12f",
   "metadata": {},
   "outputs": [],
   "source": [
    "numerical_cols += ['signup_hour_sin', 'signup_hour_cos', 'purchase_hour_sin', 'purchase_hour_cos']\n",
    "scaler = StandardScaler()\n",
    "X_train[numerical_cols] = scaler.fit_transform(X_train[numerical_cols])\n",
    "X_test[numerical_cols] = scaler.transform(X_test[numerical_cols])"
   ]
  },
  {
   "cell_type": "markdown",
   "id": "d45af1bc",
   "metadata": {},
   "source": [
    "# EDA (Part 2)"
   ]
  },
  {
   "cell_type": "code",
   "execution_count": null,
   "id": "33697c2d",
   "metadata": {
    "scrolled": true
   },
   "outputs": [],
   "source": [
    "# Compute the correlation matrix\n",
    "correlation_matrix = pre_df.corr()\n",
    "\n",
    "# Filter correlations above a threshold\n",
    "threshold = 0.3\n",
    "high_correlation = correlation_matrix[(correlation_matrix.abs() > threshold) & (correlation_matrix != 1.0)]\n",
    "\n",
    "# Display correlations above the threshold\n",
    "plt.figure(figsize=(12, 8))\n",
    "sns.heatmap(high_correlation, annot=True, cmap='coolwarm', fmt=\".2f\", cbar=False)\n",
    "plt.title(f'Correlations Above {threshold}')\n",
    "plt.show()"
   ]
  },
  {
   "cell_type": "code",
   "execution_count": null,
   "id": "343855fe",
   "metadata": {},
   "outputs": [],
   "source": [
    "# Save scaled datasets\n",
    "train_scaled = pd.concat([X_train, y_train], axis=1)\n",
    "test_scaled = pd.concat([X_test, y_test], axis=1)\n",
    "\n",
    "train_scaled.to_parquet('./data/train_scaled.parquet', index=False)\n",
    "test_scaled.to_parquet('./data/test_scaled.parquet', index=False)"
   ]
  }
 ],
 "metadata": {
  "kernelspec": {
   "display_name": "Python 3 (ipykernel)",
   "language": "python",
   "name": "python3"
  },
  "language_info": {
   "codemirror_mode": {
    "name": "ipython",
    "version": 3
   },
   "file_extension": ".py",
   "mimetype": "text/x-python",
   "name": "python",
   "nbconvert_exporter": "python",
   "pygments_lexer": "ipython3",
   "version": "3.11.1"
  }
 },
 "nbformat": 4,
 "nbformat_minor": 5
}
