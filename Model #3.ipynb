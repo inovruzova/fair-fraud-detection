{
 "cells": [
  {
   "cell_type": "code",
   "execution_count": 1,
   "metadata": {},
   "outputs": [],
   "source": [
    "import pandas as pd\n",
    "import numpy as np\n",
    "from sklearn.model_selection import train_test_split, GridSearchCV\n",
    "from sklearn.preprocessing import StandardScaler\n",
    "from sklearn.metrics import (confusion_matrix, classification_report, f1_score, \n",
    "                             precision_score, recall_score, accuracy_score, \n",
    "                             roc_curve, auc, precision_recall_curve)\n",
    "from imblearn.over_sampling import SMOTE\n",
    "import matplotlib.pyplot as plt\n",
    "import seaborn as sns\n",
    "\n",
    "# Import LightGBM\n",
    "from lightgbm import LGBMClassifier"
   ]
  },
  {
   "cell_type": "code",
   "execution_count": 2,
   "metadata": {},
   "outputs": [],
   "source": [
    "#-----------------------------------------\n",
    "# 1. Load Data\n",
    "#-----------------------------------------\n",
    "train_data = pd.read_parquet('./data/train_scaled.parquet')\n",
    "test_data = pd.read_parquet('./data/test_scaled.parquet')"
   ]
  },
  {
   "cell_type": "code",
   "execution_count": 3,
   "metadata": {},
   "outputs": [],
   "source": [
    "#-----------------------------------------\n",
    "# 2. Train/Test Split\n",
    "#-----------------------------------------\n",
    "# Separate features and target\n",
    "X_train = train_data.drop(['class'], axis=1, errors='ignore') \n",
    "y_train = train_data['class']"
   ]
  },
  {
   "cell_type": "code",
   "execution_count": null,
   "metadata": {},
   "outputs": [],
   "source": [
    "# Separate features and target\n",
    "X_test = test_data.drop(['class'], axis=1, errors='ignore') \n",
    "y_test = test_data['class']"
   ]
  },
  {
   "cell_type": "code",
   "execution_count": 4,
   "metadata": {},
   "outputs": [],
   "source": [
    "# 3. Handle Class Imbalance (SMOTE)\n",
    "#-----------------------------------------\n",
    "smote = SMOTE(random_state=42)\n",
    "X_train_res, y_train_res = smote.fit_resample(X_train, y_train)\n",
    "\n",
    "#-----------------------------------------\n",
    "# 4. Define Model & Parameter Grid\n",
    "#    Using LightGBM now\n",
    "#-----------------------------------------\n",
    "model = LGBMClassifier(random_state=42)\n",
    "\n",
    "param_grid = {\n",
    "    'num_leaves': [31, 63],\n",
    "    'learning_rate': [0.01, 0.1],\n",
    "    'n_estimators': [100, 300]\n",
    "}\n"
   ]
  },
  {
   "cell_type": "code",
   "execution_count": 5,
   "metadata": {},
   "outputs": [
    {
     "name": "stdout",
     "output_type": "stream",
     "text": [
      "Fitting 3 folds for each of 8 candidates, totalling 24 fits\n",
      "[LightGBM] [Info] Number of positive: 109568, number of negative: 109568\n",
      "[LightGBM] [Info] Auto-choosing row-wise multi-threading, the overhead of testing was 0.007608 seconds.\n",
      "You can set `force_row_wise=true` to remove the overhead.\n",
      "And if memory is not enough, you can set `force_col_wise=true`.\n",
      "[LightGBM] [Info] Total Bins 2042\n",
      "[LightGBM] [Info] Number of data points in the train set: 219136, number of used features: 14\n",
      "[LightGBM] [Info] [binary:BoostFromScore]: pavg=0.500000 -> initscore=0.000000\n",
      "Best params for LightGBM: {'learning_rate': 0.1, 'n_estimators': 300, 'num_leaves': 63}\n",
      "\n"
     ]
    }
   ],
   "source": [
    "# 5. Hyperparameter Tuning using GridSearchCV with progress\n",
    "#    Set verbose=3 to see detailed progress.\n",
    "#-----------------------------------------\n",
    "grid = GridSearchCV(model, param_grid, scoring='f1', cv=3, n_jobs=-1, verbose=3)\n",
    "grid.fit(X_train_res, y_train_res)\n",
    "\n",
    "best_model = grid.best_estimator_\n",
    "print(f\"Best params for LightGBM: {grid.best_params_}\\n\")"
   ]
  },
  {
   "cell_type": "code",
   "execution_count": 6,
   "metadata": {},
   "outputs": [
    {
     "name": "stdout",
     "output_type": "stream",
     "text": [
      "Metrics for LightGBM:\n",
      "Accuracy:  0.9556\n",
      "Precision: 0.9973\n",
      "Recall:    0.5269\n",
      "F1-Score:  0.6895\n",
      "\n",
      "Confusion Matrix:\n",
      "[[27389     4]\n",
      " [ 1339  1491]]\n",
      "\n",
      "Classification Report:\n",
      "              precision    recall  f1-score   support\n",
      "\n",
      "           0       0.95      1.00      0.98     27393\n",
      "           1       1.00      0.53      0.69      2830\n",
      "\n",
      "    accuracy                           0.96     30223\n",
      "   macro avg       0.98      0.76      0.83     30223\n",
      "weighted avg       0.96      0.96      0.95     30223\n",
      "\n"
     ]
    }
   ],
   "source": [
    "# 6. Evaluate Each Model with Runtime Profiling for Fitting and Prediction\n",
    "#-----------------------------------------\n",
    "model_performance = []\n",
    "\n",
    "for model_name, model in best_models.items():\n",
    "    print(f\"Evaluating {model_name}...\")\n",
    "\n",
    "    # Measure training time\n",
    "    start_fit = time.time()\n",
    "    model.fit(X_train_res, y_train_res)  # Refit model for fair timing\n",
    "    end_fit = time.time()\n",
    "    fit_time = end_fit - start_fit\n",
    "\n",
    "    # Measure prediction time\n",
    "    start_predict = time.time()\n",
    "    y_pred = model.predict(X_test)\n",
    "    end_predict = time.time()\n",
    "    predict_time = end_predict - start_predict\n",
    "\n",
    "    # Metrics\n",
    "    f1 = f1_score(y_test, y_pred)\n",
    "    precision = precision_score(y_test, y_pred)\n",
    "    recall = recall_score(y_test, y_pred)\n",
    "    accuracy = accuracy_score(y_test, y_pred)\n",
    "\n",
    "    model_performance.append({\n",
    "        \"Model\": model_name,\n",
    "        \"Accuracy\": accuracy,\n",
    "        \"Precision\": precision,\n",
    "        \"Recall\": recall,\n",
    "        \"F1-Score\": f1,\n",
    "        \"Training Time (s)\": fit_time,\n",
    "        \"Prediction Time (s)\": predict_time\n",
    "    })\n",
    "\n",
    "    print(f\"{model_name} - Training Time: {fit_time:.4f} s, Prediction Time: {predict_time:.4f} s\")\n",
    "    print(\"----------------------------------------------------\\n\")"
   ]
  },
  {
   "cell_type": "code",
   "execution_count": 7,
   "metadata": {},
   "outputs": [
    {
     "data": {
      "image/png": "[encoded data removed]",
      "text/plain": [
       "<Figure size 600x400 with 1 Axes>"
      ]
     },
     "metadata": {},
     "output_type": "display_data"
    },
    {
     "data": {
      "image/png": "[encoded data removed]",
      "text/plain": [
       "<Figure size 600x400 with 1 Axes>"
      ]
     },
     "metadata": {},
     "output_type": "display_data"
    }
   ],
   "source": [
    "#-----------------------------------------\n",
    "# 7. Visualize Metrics and Runtime\n",
    "#-----------------------------------------\n",
    "# Convert model performance to DataFrame\n",
    "df_performance = pd.DataFrame(model_performance)\n",
    "\n",
    "# Sort by F1-Score for ranking\n",
    "df_performance = df_performance.sort_values(by='F1-Score', ascending=False)\n",
    "\n",
    "# Display performance\n",
    "print(df_performance)\n",
    "\n",
    "# Visualization of metrics\n",
    "df_performance_melt = df_performance.melt(id_vars='Model', var_name='Metric', value_name='Score')\n",
    "\n",
    "plt.figure(figsize=(12, 6))\n",
    "sns.barplot(data=df_performance_melt[df_performance_melt['Metric'].isin(['Accuracy', 'F1-Score'])],\n",
    "            x='Model', y='Score', hue='Metric')\n",
    "plt.title(\"Model Performance Metrics\")\n",
    "plt.xticks(rotation=45)\n",
    "plt.show()\n",
    "\n",
    "# Training and Prediction Time Comparison\n",
    "time_metrics = df_performance.melt(id_vars='Model', value_vars=['Training Time (s)', 'Prediction Time (s)'], \n",
    "                                    var_name='Metric', value_name='Time (s)')\n",
    "\n",
    "plt.figure(figsize=(8, 4))\n",
    "sns.barplot(data=time_metrics, x='Model', y='Time (s)', hue='Metric')\n",
    "plt.title(\"Training and Prediction Time Comparison\")\n",
    "plt.xticks(rotation=45)\n",
    "plt.show()"
   ]
  },
  {
   "cell_type": "code",
   "execution_count": null,
   "metadata": {},
   "outputs": [],
   "source": [
    "# Confusion matrices for each model\n",
    "for model_name, model in best_models.items():\n",
    "    y_pred = model.predict(X_test)\n",
    "    cm = confusion_matrix(y_test, y_pred)\n",
    "    plt.figure(figsize=(6,4))\n",
    "    sns.heatmap(cm, annot=True, fmt='d', cmap='Blues')\n",
    "    plt.title(f'Confusion Matrix for {model_name}')\n",
    "    plt.xlabel('Predicted')\n",
    "    plt.ylabel('True')\n",
    "    plt.show()"
   ]
  },
  {
   "cell_type": "code",
   "execution_count": null,
   "metadata": {},
   "outputs": [],
   "source": [
    "# ROC Curves\n",
    "plt.figure(figsize=(10,6))\n",
    "for model_name, model in best_models.items():\n",
    "    if hasattr(model, \"predict_proba\"):\n",
    "        y_proba = model.predict_proba(X_test)[:,1]\n",
    "    else:\n",
    "        # For models that do not have predict_proba, use decision_function if available\n",
    "        if hasattr(model, \"decision_function\"):\n",
    "            y_proba = model.decision_function(X_test)\n",
    "        else:\n",
    "            # As a fallback, consider predictions as probabilities (not ideal)\n",
    "            y_proba = model.predict(X_test) \n",
    "    fpr, tpr, _ = roc_curve(y_test, y_proba)\n",
    "    roc_auc = auc(fpr, tpr)\n",
    "    plt.plot(fpr, tpr, label=f'{model_name} (AUC = {roc_auc:.2f})')\n",
    "plt.plot([0,1],[0,1],'r--')\n",
    "plt.title(\"ROC Curve Comparison\")\n",
    "plt.xlabel(\"False Positive Rate\")\n",
    "plt.ylabel(\"True Positive Rate\")\n",
    "plt.legend(loc='lower right')\n",
    "plt.show()"
   ]
  },
  {
   "cell_type": "code",
   "execution_count": null,
   "metadata": {},
   "outputs": [],
   "source": [
    "# Precision-Recall Curves\n",
    "plt.figure(figsize=(10,6))\n",
    "for model_name, model in best_models.items():\n",
    "    if hasattr(model, \"predict_proba\"):\n",
    "        y_proba = model.predict_proba(X_test)[:,1]\n",
    "    else:\n",
    "        # fallback as above\n",
    "        if hasattr(model, \"decision_function\"):\n",
    "            y_proba = model.decision_function(X_test)\n",
    "        else:\n",
    "            # fallback to binary predictions (less informative)\n",
    "            y_proba = model.predict(X_test)\n",
    "    precision_pts, recall_pts, _ = precision_recall_curve(y_test, y_proba)\n",
    "    plt.plot(recall_pts, precision_pts, label=model_name)\n",
    "plt.title(\"Precision-Recall Curve Comparison\")\n",
    "plt.xlabel(\"Recall\")\n",
    "plt.ylabel(\"Precision\")\n",
    "plt.legend(loc='best')\n",
    "plt.show()"
   ]
  },
  {
   "cell_type": "code",
   "execution_count": null,
   "metadata": {},
   "outputs": [],
   "source": [
    "# Determine best model based on F1-score\n",
    "best_model = max(model_scores, key=lambda x: x[-1])\n",
    "print(\"Best Model based on F1-score is:\", best_model[0], \"with F1-score:\", best_model[-1])\n",
    "print(\"Accuracy for best model:\", best_model[1])"
   ]
  },
  {
   "cell_type": "code",
   "execution_count": null,
   "metadata": {},
   "outputs": [],
   "source": [
    "#-----------------------------------------\n",
    "# 8. Save Models with Joblib\n",
    "#-----------------------------------------\n",
    "for model_name, model in best_models.items():\n",
    "    model_filename = f'{model_name}_#3_best_model.joblib'\n",
    "    dump(model, model_filename)\n",
    "    print(f\"Saved {model_name} model to {model_filename}\")"
   ]
  }
 ],
 "metadata": {
  "kernelspec": {
   "display_name": "Python 3 (ipykernel)",
   "language": "python",
   "name": "python3"
  },
  "language_info": {
   "codemirror_mode": {
    "name": "ipython",
    "version": 3
   },
   "file_extension": ".py",
   "mimetype": "text/x-python",
   "name": "python",
   "nbconvert_exporter": "python",
   "pygments_lexer": "ipython3",
   "version": "3.11.5"
  }
 },
 "nbformat": 4,
 "nbformat_minor": 4
}
